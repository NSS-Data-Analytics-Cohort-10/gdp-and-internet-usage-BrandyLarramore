{
 "cells": [
  {
   "cell_type": "markdown",
   "id": "cb2d624a",
   "metadata": {},
   "source": [
    "### 3. Import the required packages with their customary aliases as follows:\n",
    "\n",
    "    `import pandas as pd`   \n",
    "    `import numpy as np`  \n",
    "    `import matplotlib.pyplot as plt`  \n",
    "    `import seaborn as sns`=="
   ]
  },
  {
   "cell_type": "code",
   "execution_count": null,
   "id": "d93797d9",
   "metadata": {},
   "outputs": [],
   "source": [
    "import pandas as pd\n",
    "import numpy as np\n",
    "import matplotlib.pyplot as plt\n",
    "import seaborn as sns"
   ]
  },
  {
   "cell_type": "markdown",
   "id": "941cc7b7",
   "metadata": {},
   "source": [
    "### 4. Using the pandas `read_csv()` method, read the GDP dataset into your notebook as a DataFrame called `gdp_df`. Take a look at the first few and last few rows to familiarize yourself with what is contained in this dataset."
   ]
  },
  {
   "cell_type": "code",
   "execution_count": null,
   "id": "2cd1d4ab",
   "metadata": {},
   "outputs": [],
   "source": [
    "pd.read_csv('../data/gdp_percapita.csv')"
   ]
  },
  {
   "cell_type": "code",
   "execution_count": null,
   "id": "38787d47",
   "metadata": {},
   "outputs": [],
   "source": [
    "pd.read_csv('../data/gdp_percapita.csv')"
   ]
  },
  {
   "cell_type": "code",
   "execution_count": null,
   "id": "7fbb3da6",
   "metadata": {
    "scrolled": true
   },
   "outputs": [],
   "source": [
    "gdp_df = pd.read_csv('../data/gdp_percapita.csv') #navigating to file after changing title\n",
    "column_types = gdp_df.dtypes\n",
    "print(column_types)"
   ]
  },
  {
   "cell_type": "markdown",
   "id": "1584cadb",
   "metadata": {},
   "source": [
    "### 5. How many rows and columns are in `gdp_df`? What are the data types of each column?"
   ]
  },
  {
   "cell_type": "markdown",
   "id": "fe583af3",
   "metadata": {},
   "source": [
    "7662 rows, 4 columns. Country/Area = object, year = int64, Value = float64, Value footnotes = float64"
   ]
  },
  {
   "cell_type": "code",
   "execution_count": null,
   "id": "6ecc8aac",
   "metadata": {},
   "outputs": [],
   "source": [
    "gdp_df.shape #how many rows, then columns"
   ]
  },
  {
   "cell_type": "markdown",
   "id": "5037ba1f",
   "metadata": {},
   "source": [
    "### 6. Drop the `Value Footnotes` column and rename the remaining three to 'Country', 'Year', and 'GDP_Per_Capita'."
   ]
  },
  {
   "cell_type": "code",
   "execution_count": null,
   "id": "7b484047",
   "metadata": {},
   "outputs": [],
   "source": [
    "gdp_df = gdp_df.drop(columns = ['Value Footnotes']) #getting rid of that\n",
    "gdp_df.head(2)"
   ]
  },
  {
   "cell_type": "code",
   "execution_count": null,
   "id": "2f3e7725",
   "metadata": {
    "scrolled": true
   },
   "outputs": [],
   "source": [
    "gdp_df = gdp_df.rename(columns = {'Country or Area':'country','Year':'year','Value':'gdp_per_capita'})\n",
    "gdp_df.head(2) #renaming them"
   ]
  },
  {
   "cell_type": "markdown",
   "id": "fabb459b",
   "metadata": {},
   "source": [
    "### 7. How many countries have data for all years? Which countries are missing many years of data?"
   ]
  },
  {
   "cell_type": "code",
   "execution_count": null,
   "id": "26a2fdf0",
   "metadata": {
    "scrolled": true
   },
   "outputs": [],
   "source": [
    "years = gdp_df ['year'].unique() \n",
    "# finding all the unique years in the dataset and assigning the varriable 'years'"
   ]
  },
  {
   "cell_type": "code",
   "execution_count": null,
   "id": "0dec500c",
   "metadata": {
    "scrolled": true
   },
   "outputs": [],
   "source": [
    "country_counts = gdp_df['country'].value_counts() \n",
    "#counting the number of rows for each country, then totaling how many times each unique country appears\n",
    "country_counts.head()"
   ]
  },
  {
   "cell_type": "code",
   "execution_count": null,
   "id": "37a69cbf",
   "metadata": {},
   "outputs": [],
   "source": [
    "countries_with_all_years = country_counts[country_counts == len(years)].index.tolist()\n",
    "#getting rid of countries where the amounts are the same"
   ]
  },
  {
   "cell_type": "code",
   "execution_count": null,
   "id": "a3b01631",
   "metadata": {},
   "outputs": [],
   "source": [
    "count_countries_with_all_years = len(countries_with_all_years)\n",
    "count_countries_with_all_years\n",
    "#this should be what is left after taking out the matching numbers"
   ]
  },
  {
   "cell_type": "markdown",
   "id": "09b5961c",
   "metadata": {},
   "source": [
    "### Which countries are missing many years of data? "
   ]
  },
  {
   "cell_type": "code",
   "execution_count": null,
   "id": "9a191509",
   "metadata": {},
   "outputs": [],
   "source": [
    "countries_with_all_years"
   ]
  },
  {
   "cell_type": "markdown",
   "id": "e4561279",
   "metadata": {},
   "source": [
    "### Look at the number of observations per year. What do you notice? "
   ]
  },
  {
   "cell_type": "code",
   "execution_count": null,
   "id": "8e0cba93",
   "metadata": {},
   "outputs": [],
   "source": [
    "observations_per_year = gdp_df['year'].value_counts().sort_index()\n",
    "\n",
    "observations_per_year"
   ]
  },
  {
   "cell_type": "markdown",
   "id": "ead00c9d",
   "metadata": {},
   "source": [
    "Consistently went up every year until 2022"
   ]
  },
  {
   "cell_type": "markdown",
   "id": "cccade89",
   "metadata": {},
   "source": [
    "8. In this question, you're going to create some plots to show the distribution of GDP per capita for the year 2020. Go to the Python Graph Gallery (https://www.python-graph-gallery.com/) and look at the different types of plots under the Distribution section. Create a histogram, a density plot, a boxplot, and a violin plot. What do you notice when you look at these plots? How do the plots compare and what information can you get out of one type that you can't necessarily get out of the others?"
   ]
  },
  {
   "cell_type": "markdown",
   "id": "28d14542",
   "metadata": {},
   "source": [
    "### Histogram"
   ]
  },
  {
   "cell_type": "code",
   "execution_count": null,
   "id": "dc7a72c7",
   "metadata": {},
   "outputs": [],
   "source": [
    "gdp_2020 = gdp_df[gdp_df['year'] == 2020] #just getting 2020\n",
    "\n",
    "# creating the graph\n",
    "plt.figure(figsize=(12, 6))\n",
    "plt.hist(gdp_2020['gdp_per_capita'], bins=30, color='green', edgecolor='black')\n",
    "plt.title('GDP per capita in 2020')\n",
    "plt.xlabel('GDP per capita')\n",
    "plt.ylabel('Number of Countries')\n",
    "plt.grid(True)\n",
    "plt.show()\n"
   ]
  },
  {
   "cell_type": "markdown",
   "id": "63239cf8",
   "metadata": {},
   "source": [
    "### Density Plot"
   ]
  },
  {
   "cell_type": "code",
   "execution_count": null,
   "id": "83a3aa4c",
   "metadata": {
    "scrolled": true
   },
   "outputs": [],
   "source": [
    "gdp_2020 = gdp_df[gdp_df['year'] == 2020] #just getting 2020\n",
    "\n",
    "plt.figure(figsize=(12, 3))\n",
    "sns.kdeplot(gdp_2020['gdp_per_capita'], fill=True, color=\"purple\")  # Replaced 'shade' with 'fill'\n",
    "plt.title('GDP per capita in 2020')\n",
    "plt.xlabel('GDP per capita')\n",
    "plt.ylabel('Density')\n",
    "plt.grid(True)\n",
    "plt.show()\n"
   ]
  },
  {
   "cell_type": "markdown",
   "id": "f4b61486",
   "metadata": {},
   "source": [
    "### Boxplot"
   ]
  },
  {
   "cell_type": "code",
   "execution_count": null,
   "id": "5dcdf6b3",
   "metadata": {
    "scrolled": false
   },
   "outputs": [],
   "source": [
    "gdp_2020 = gdp_df[gdp_df['year'] == 2020] #just getting 2020\n",
    "\n",
    "plt.figure(figsize=(10, 3))\n",
    "sns.boxplot(x=gdp_2020['gdp_per_capita'], color=\"pink\")\n",
    "plt.title('GDP per capita in 2020')\n",
    "plt.xlabel('GDP per capita')\n",
    "plt.grid(True)\n",
    "plt.show()"
   ]
  },
  {
   "cell_type": "markdown",
   "id": "f5b53e01",
   "metadata": {},
   "source": [
    "### Violin plot"
   ]
  },
  {
   "cell_type": "code",
   "execution_count": null,
   "id": "9f2ae3a1",
   "metadata": {
    "scrolled": true
   },
   "outputs": [],
   "source": [
    "gdp_2020 = gdp_df[gdp_df['year'] == 2020] #just getting 2020\n",
    "\n",
    "plt.figure(figsize=(15, 5))\n",
    "sns.violinplot(y='gdp_per_capita', data=gdp_2020)\n",
    "plt.title('GDP Per Capita 2020')\n",
    "plt.ylabel('GDP Per Capita')\n",
    "plt.grid(True)\n",
    "plt.show()\n"
   ]
  },
  {
   "cell_type": "markdown",
   "id": "cc95944c",
   "metadata": {},
   "source": [
    "### How do the plots compare and what information can you get out of one type that you can't necessarily get out of the others?"
   ]
  },
  {
   "cell_type": "markdown",
   "id": "842a2182",
   "metadata": {},
   "source": [
    "The first two graphs seem more detailed. The boxplot and violin plot seem like a summary. Also, it's a stingray."
   ]
  },
  {
   "cell_type": "markdown",
   "id": "5f97b28e",
   "metadata": {},
   "source": [
    "### 9. What was the median GDP per capita value in 2020?"
   ]
  },
  {
   "cell_type": "code",
   "execution_count": null,
   "id": "0e81322b",
   "metadata": {},
   "outputs": [],
   "source": [
    "gdp_2020 = gdp_df[gdp_df['year'] == 2020] #Just getting 2020\n",
    "\n",
    "median_gdp_2020 = gdp_2020['gdp_per_capita'].median() #median\n",
    "median_gdp_2020 #printing it\n"
   ]
  },
  {
   "cell_type": "markdown",
   "id": "b41766c6",
   "metadata": {},
   "source": [
    "### 10. For this question, you're going to create some visualizations to compare GDP per capita values for the years 1990, 2000, 2010, and 2020. Start by subsetting your data to just these 4 years into a new DataFrame named gdp_decades. Using this, create the following 4 plots:\n",
    "\t* A boxplot\n",
    "\t* A barplot (check out the Barplot with Seaborn section: https://www.python-graph-gallery.com/barplot/#Seaborn)\n",
    "\t* A scatterplot\n",
    "\t* A scatterplot with a trend line overlaid (see this regplot example: https://www.python-graph-gallery.com/42-custom-linear-regression-fit-seaborn)  \n",
    "Comment on what you observe has happened to GDP values over time and the relative strengths and weaknesses of each type of plot."
   ]
  },
  {
   "cell_type": "markdown",
   "id": "235e5bae",
   "metadata": {},
   "source": [
    "### Start by subsetting your data to just these 4 years into a new DataFrame named gdp_decades."
   ]
  },
  {
   "cell_type": "code",
   "execution_count": null,
   "id": "4fdcfac3",
   "metadata": {},
   "outputs": [],
   "source": [
    "gdp_decades = gdp_df[gdp_df['year'].isin([1990, 2000, 2010, 2020])] #getting the years"
   ]
  },
  {
   "cell_type": "markdown",
   "id": "dfca99c3",
   "metadata": {},
   "source": [
    "### Boxplot"
   ]
  },
  {
   "cell_type": "code",
   "execution_count": null,
   "id": "13576fa0",
   "metadata": {
    "scrolled": true
   },
   "outputs": [],
   "source": [
    "fig, axes = plt.subplots(figsize=(10, 3))\n",
    "sns.boxplot(x='year', y='gdp_per_capita', data=gdp_decades, ax=axes)\n",
    "axes.set_title('GDP per Capita for Decades')\n",
    "axes.set_ylabel('GDP per Capita')\n",
    "axes.set_xlabel('Year')\n",
    "\n",
    "plt.show()"
   ]
  },
  {
   "cell_type": "markdown",
   "id": "ee934d23",
   "metadata": {},
   "source": [
    "### Barplot"
   ]
  },
  {
   "cell_type": "code",
   "execution_count": null,
   "id": "8c86029c",
   "metadata": {
    "scrolled": false
   },
   "outputs": [],
   "source": [
    "fig, axes = plt.subplots(figsize=(10, 6))\n",
    "sns.barplot(x='year', y='gdp_per_capita', data=gdp_decades, ax=axes, estimator=np.mean)\n",
    "axes.set_title('Average GDP per Capita')\n",
    "axes.set_ylabel('Average GDP per Capita')\n",
    "axes.set_xlabel('Year')\n",
    "\n",
    "plt.show()"
   ]
  },
  {
   "cell_type": "markdown",
   "id": "260ef6be",
   "metadata": {},
   "source": [
    "### Scatterplot"
   ]
  },
  {
   "cell_type": "code",
   "execution_count": null,
   "id": "b0baf6fe",
   "metadata": {},
   "outputs": [],
   "source": [
    "plt.figure(figsize=(10, 6))\n",
    "sns.scatterplot(x='year', y='gdp_per_capita', data=gdp_decades)\n",
    "plt.title('GDP by Decades')\n",
    "plt.ylabel('GDP Per Capita')\n",
    "plt.xlabel('Year')\n",
    "plt.show()"
   ]
  },
  {
   "cell_type": "markdown",
   "id": "9c722f88",
   "metadata": {},
   "source": [
    "### Scatterplot with a trend line overlaid"
   ]
  },
  {
   "cell_type": "code",
   "execution_count": null,
   "id": "71a44a35",
   "metadata": {},
   "outputs": [],
   "source": [
    "plt.figure(figsize=(10, 6))\n",
    "sns.regplot(x='year', y='gdp_per_capita', data=gdp_decades, scatter_kws={'s':10}, line_kws={\"color\": \"red\"})\n",
    "plt.title('GDP Per Capita by Decades')\n",
    "plt.ylabel('GDP Per Capita')\n",
    "plt.xlabel('Year')\n",
    "plt.show()\n"
   ]
  },
  {
   "cell_type": "markdown",
   "id": "6402ff96",
   "metadata": {},
   "source": [
    "### 11. Which country was the first to have a GDP per capita greater than $100,000?"
   ]
  },
  {
   "cell_type": "code",
   "execution_count": null,
   "id": "0d33c1d9",
   "metadata": {},
   "outputs": [],
   "source": [
    "high_gdp_data = gdp_df[gdp_df['gdp_per_capita'] > 100000] # gdp greater that 10000\n",
    "first_high_gdp = high_gdp_data.sort_values(by=['year', 'gdp_per_capita'], ascending=[True, False]).head(1) #grouping it by year and gdp\n",
    "\n",
    "first_high_gdp_country = first_high_gdp.iloc[0]['country'] if not first_high_gdp.empty else \"No country found\" #pulling the first one\n",
    "first_high_gdp_year = first_high_gdp.iloc[0]['year'] if not first_high_gdp.empty else \"N/A\"\n",
    "\n",
    "first_high_gdp_country, first_high_gdp_year #showing them"
   ]
  },
  {
   "cell_type": "markdown",
   "id": "da7ba2f9",
   "metadata": {},
   "source": [
    "### 12. Which country had the highest GDP per capita in 2020?"
   ]
  },
  {
   "cell_type": "code",
   "execution_count": null,
   "id": "344875e5",
   "metadata": {},
   "outputs": [],
   "source": [
    "gdp_largest = gdp_df.loc[gdp_df[\"year\"]==2020]\n",
    "gdp_largest.nlargest(1,\"gdp_per_capita\")"
   ]
  },
  {
   "cell_type": "markdown",
   "id": "6dfb3e4f",
   "metadata": {},
   "source": [
    "### Create a plot showing how this country's GDP per capita has changed over the timespan of the dataset."
   ]
  },
  {
   "cell_type": "code",
   "execution_count": null,
   "id": "5f0a67e1",
   "metadata": {},
   "outputs": [],
   "source": [
    "luxembourg_gdp = gdp_df[gdp_df['country'] == 'Luxembourg'] #getting luxembourg\n",
    "\n",
    "plt.figure(figsize=(12, 6))\n",
    "sns.lineplot(x='year', y='gdp_per_capita', data=luxembourg_gdp, marker='o')\n",
    "plt.title('Luxembourg GDP Per Capita Over Time')\n",
    "plt.ylabel('GDP Per Capita (USD)')\n",
    "plt.xlabel('Year')\n",
    "plt.grid(True)\n",
    "plt.show()\n"
   ]
  },
  {
   "cell_type": "markdown",
   "id": "1d4b4222",
   "metadata": {},
   "source": [
    "### 13. Which country had the lowest GDP per capita in 2020?"
   ]
  },
  {
   "cell_type": "code",
   "execution_count": null,
   "id": "5ae4f9f3",
   "metadata": {},
   "outputs": [],
   "source": [
    "lowest_gdp_2020 = gdp_2020.sort_values(by='gdp_per_capita', ascending=True).head(1)\n",
    "lowest_gdp_2020_country = lowest_gdp_2020.iloc[0]['country']\n",
    "lowest_gdp_2020_value = lowest_gdp_2020.iloc[0]['gdp_per_capita']\n",
    "\n",
    "lowest_gdp_2020_country, lowest_gdp_2020_value"
   ]
  },
  {
   "cell_type": "markdown",
   "id": "e9bd1a88",
   "metadata": {},
   "source": [
    "### Create a plot showing how this country's GDP per capita has changed over the timespan of the dataset. "
   ]
  },
  {
   "cell_type": "code",
   "execution_count": null,
   "id": "a2940531",
   "metadata": {},
   "outputs": [],
   "source": [
    "burundi_gdp = gdp_df[gdp_df['country'] == 'Burundi']\n",
    "\n",
    "plt.figure(figsize=(12, 6))\n",
    "sns.lineplot(x='year', y='gdp_per_capita', data=burundi_gdp, marker='o')\n",
    "plt.title('Burundi GDP Per Capita')\n",
    "plt.ylabel('GDP Per Capita')\n",
    "plt.xlabel('Year')\n",
    "plt.grid(True)\n",
    "plt.show()"
   ]
  },
  {
   "cell_type": "markdown",
   "id": "5f30c2c6",
   "metadata": {},
   "source": [
    "### 14. Read in the internet use dataset into a DataFrame named `internet_df`. You will likely get errors when doing this. Check the arguments for the read_csv function to find ones that can help correct the errors (https://pandas.pydata.org/docs/reference/api/pandas.read_csv.html) Once you are able to read it in, take per a look at the top and bottom few rows to make sure that it has been read in correctly. Also, check the datatypes of the columns."
   ]
  },
  {
   "cell_type": "code",
   "execution_count": null,
   "id": "a8f2fdbf",
   "metadata": {},
   "outputs": [],
   "source": [
    "internet_df = pd.read_csv('../data/internet_use.csv', on_bad_lines = 'skip')\n",
    "print(internet_df)"
   ]
  },
  {
   "cell_type": "markdown",
   "id": "39d732c9",
   "metadata": {},
   "source": [
    "### Also, check the datatypes of the columns."
   ]
  },
  {
   "cell_type": "code",
   "execution_count": null,
   "id": "b6087588",
   "metadata": {},
   "outputs": [],
   "source": [
    "data_type = internet_df.dtypes\n",
    "print(data_type)"
   ]
  },
  {
   "cell_type": "markdown",
   "id": "8783a232",
   "metadata": {},
   "source": [
    "### 15. Drop the `Value Footnotes` column"
   ]
  },
  {
   "cell_type": "code",
   "execution_count": null,
   "id": "1787cdfc",
   "metadata": {},
   "outputs": [],
   "source": [
    "internet_df = internet_df.drop(columns = ['Value Footnotes'])"
   ]
  },
  {
   "cell_type": "markdown",
   "id": "6fe09ef9",
   "metadata": {},
   "source": [
    "### Rename the remaining three to 'Country', 'Year', and 'Internet_Users_Pct'."
   ]
  },
  {
   "cell_type": "code",
   "execution_count": null,
   "id": "ef6527d9",
   "metadata": {},
   "outputs": [],
   "source": [
    "internet_df.rename(columns={'Country or Area': 'Country', 'Value': 'Internet_Users_Pct'}, inplace=True)\n",
    "\n",
    "internet_df.head()"
   ]
  },
  {
   "cell_type": "markdown",
   "id": "db31bc75",
   "metadata": {},
   "source": [
    "### 16. Look at the number of observations in this dataset per year. What do you notice?"
   ]
  },
  {
   "cell_type": "markdown",
   "id": "d7cda52e",
   "metadata": {},
   "source": [
    "Skipping this one. Have no idea how to go about it, and running out of time"
   ]
  },
  {
   "cell_type": "markdown",
   "id": "9728f8af",
   "metadata": {},
   "source": [
    "### 17. What is the first year to have a non-zero internet users percentage value?"
   ]
  },
  {
   "cell_type": "code",
   "execution_count": null,
   "id": "4c499953",
   "metadata": {},
   "outputs": [],
   "source": [
    "first_year_non_zero = internet_df[internet_df['Internet_Users_Pct'] > 0] \\\n",
    "                      .sort_values(by='Year') \\\n",
    "                      .iloc[0]['Year']\n",
    "#finding where users are more than 0\n",
    "# thensorting them by year\n",
    "#acording to google iloc give the first row\n",
    "first_year_non_zero"
   ]
  },
  {
   "cell_type": "markdown",
   "id": "92bc3ba0",
   "metadata": {},
   "source": [
    "### 18. How does the distribution of internet users percent differ for 2000 and 2014?"
   ]
  },
  {
   "cell_type": "code",
   "execution_count": null,
   "id": "ceecdbc4",
   "metadata": {},
   "outputs": [],
   "source": [
    "mean_internet_usage = internet_2000_2014.groupby('Year')['Internet_Users_Pct'].mean().reset_index() #getting the mean\n",
    "\n",
    "plt.figure(figsize=(8, 6))\n",
    "sns.barplot(x='Year', y='Internet_Users_Pct', data=mean_internet_usage)\n",
    "plt.title('Average Internet Users for 2000 and 2014')\n",
    "plt.xlabel('Year')\n",
    "plt.ylabel('Average Internet Users')\n",
    "plt.show()\n",
    "\n",
    "min([], default=\"EMPTY\")\n",
    "# returns EMPTY"
   ]
  },
  {
   "cell_type": "code",
   "execution_count": null,
   "id": "607bed10",
   "metadata": {},
   "outputs": [],
   "source": []
  },
  {
   "cell_type": "markdown",
   "id": "07a95b3b",
   "metadata": {},
   "source": [
    "### 19. For how many countries was the percentage of internet users below 5% in 2014?"
   ]
  },
  {
   "cell_type": "code",
   "execution_count": null,
   "id": "445580bf",
   "metadata": {},
   "outputs": [],
   "source": [
    "internet_pct_2014=internet_df[internet_df['Year']==2014]\n",
    "internet_less_5pct_2014=internet_pct_2014[internet_pct_2014['Internet_Users_Pct']<5]\n",
    "print(internet_less_5pct_2014.count())"
   ]
  },
  {
   "cell_type": "markdown",
   "id": "cc7f9277",
   "metadata": {},
   "source": [
    "### 20. Merge the two DataFrames to one. Do this in a way that keeps **all rows** from each of the two DataFrames. Call the new DataFrame `gdp_and_internet_use`. Look at the first and last few rows to confirm that it merged correctly."
   ]
  },
  {
   "cell_type": "code",
   "execution_count": null,
   "id": "73cbb4c3",
   "metadata": {},
   "outputs": [],
   "source": []
  },
  {
   "cell_type": "markdown",
   "id": "d09f1ff1",
   "metadata": {},
   "source": [
    "### 21. Find the three countries with the highest internet users percentage in 2014. Use a seaborn FacetGrid (https://seaborn.pydata.org/generated/seaborn.FacetGrid.html) to compare how the GDP per capita has changed over time for these three countries. What do you notice?"
   ]
  },
  {
   "cell_type": "code",
   "execution_count": null,
   "id": "4bb1e1f2",
   "metadata": {},
   "outputs": [],
   "source": [
    "line plot? scatter plot?"
   ]
  },
  {
   "cell_type": "markdown",
   "id": "7465f2b0",
   "metadata": {},
   "source": [
    "### 22. Subset `gdp_and_internet_use` to just the year 2014. Save this as a new dataframe named `gdp_and_internet_use_2014`."
   ]
  },
  {
   "cell_type": "code",
   "execution_count": null,
   "id": "8c5ae88f",
   "metadata": {},
   "outputs": [],
   "source": []
  },
  {
   "cell_type": "markdown",
   "id": "302ba9f0",
   "metadata": {},
   "source": [
    "### 23. Create a plot which compares Internet Users Percentage and GDP per Capita for the year 2014. What do you notice from this plot? If you see any unusual points, investigate them."
   ]
  },
  {
   "cell_type": "code",
   "execution_count": null,
   "id": "dcd8ccbd",
   "metadata": {},
   "outputs": [],
   "source": [
    "dot describe?"
   ]
  }
 ],
 "metadata": {
  "kernelspec": {
   "display_name": "Python 3 (ipykernel)",
   "language": "python",
   "name": "python3"
  },
  "language_info": {
   "codemirror_mode": {
    "name": "ipython",
    "version": 3
   },
   "file_extension": ".py",
   "mimetype": "text/x-python",
   "name": "python",
   "nbconvert_exporter": "python",
   "pygments_lexer": "ipython3",
   "version": "3.11.5"
  }
 },
 "nbformat": 4,
 "nbformat_minor": 5
}
