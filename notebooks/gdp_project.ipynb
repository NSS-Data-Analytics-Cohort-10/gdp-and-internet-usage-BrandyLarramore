{
 "cells": [
  {
   "cell_type": "markdown",
   "id": "cb2d624a",
   "metadata": {},
   "source": [
    "### 3. Import the required packages with their customary aliases as follows:\n",
    "\n",
    "    `import pandas as pd`   \n",
    "    `import numpy as np`  \n",
    "    `import matplotlib.pyplot as plt`  \n",
    "    `import seaborn as sns`=="
   ]
  },
  {
   "cell_type": "code",
   "execution_count": 1,
   "id": "d93797d9",
   "metadata": {},
   "outputs": [],
   "source": [
    "import pandas as pd\n",
    "import numpy as np\n",
    "import matplotlib.pyplot as plt\n",
    "import seaborn as sns"
   ]
  },
  {
   "cell_type": "markdown",
   "id": "941cc7b7",
   "metadata": {},
   "source": [
    "### 4. Using the pandas `read_csv()` method, read the GDP dataset into your notebook as a DataFrame called `gdp_df`. Take a look at the first few and last few rows to familiarize yourself with what is contained in this dataset."
   ]
  },
  {
   "cell_type": "code",
   "execution_count": 2,
   "id": "2cd1d4ab",
   "metadata": {},
   "outputs": [
    {
     "data": {
      "text/html": [
       "<div>\n",
       "<style scoped>\n",
       "    .dataframe tbody tr th:only-of-type {\n",
       "        vertical-align: middle;\n",
       "    }\n",
       "\n",
       "    .dataframe tbody tr th {\n",
       "        vertical-align: top;\n",
       "    }\n",
       "\n",
       "    .dataframe thead th {\n",
       "        text-align: right;\n",
       "    }\n",
       "</style>\n",
       "<table border=\"1\" class=\"dataframe\">\n",
       "  <thead>\n",
       "    <tr style=\"text-align: right;\">\n",
       "      <th></th>\n",
       "      <th>Country or Area</th>\n",
       "      <th>Year</th>\n",
       "      <th>Value</th>\n",
       "      <th>Value Footnotes</th>\n",
       "    </tr>\n",
       "  </thead>\n",
       "  <tbody>\n",
       "    <tr>\n",
       "      <th>0</th>\n",
       "      <td>Afghanistan</td>\n",
       "      <td>2021</td>\n",
       "      <td>1517.016266</td>\n",
       "      <td>NaN</td>\n",
       "    </tr>\n",
       "    <tr>\n",
       "      <th>1</th>\n",
       "      <td>Afghanistan</td>\n",
       "      <td>2020</td>\n",
       "      <td>1968.341002</td>\n",
       "      <td>NaN</td>\n",
       "    </tr>\n",
       "    <tr>\n",
       "      <th>2</th>\n",
       "      <td>Afghanistan</td>\n",
       "      <td>2019</td>\n",
       "      <td>2079.921861</td>\n",
       "      <td>NaN</td>\n",
       "    </tr>\n",
       "    <tr>\n",
       "      <th>3</th>\n",
       "      <td>Afghanistan</td>\n",
       "      <td>2018</td>\n",
       "      <td>2060.698973</td>\n",
       "      <td>NaN</td>\n",
       "    </tr>\n",
       "    <tr>\n",
       "      <th>4</th>\n",
       "      <td>Afghanistan</td>\n",
       "      <td>2017</td>\n",
       "      <td>2096.093111</td>\n",
       "      <td>NaN</td>\n",
       "    </tr>\n",
       "    <tr>\n",
       "      <th>...</th>\n",
       "      <td>...</td>\n",
       "      <td>...</td>\n",
       "      <td>...</td>\n",
       "      <td>...</td>\n",
       "    </tr>\n",
       "    <tr>\n",
       "      <th>7657</th>\n",
       "      <td>Zimbabwe</td>\n",
       "      <td>1994</td>\n",
       "      <td>2670.106615</td>\n",
       "      <td>NaN</td>\n",
       "    </tr>\n",
       "    <tr>\n",
       "      <th>7658</th>\n",
       "      <td>Zimbabwe</td>\n",
       "      <td>1993</td>\n",
       "      <td>2458.783255</td>\n",
       "      <td>NaN</td>\n",
       "    </tr>\n",
       "    <tr>\n",
       "      <th>7659</th>\n",
       "      <td>Zimbabwe</td>\n",
       "      <td>1992</td>\n",
       "      <td>2468.278257</td>\n",
       "      <td>NaN</td>\n",
       "    </tr>\n",
       "    <tr>\n",
       "      <th>7660</th>\n",
       "      <td>Zimbabwe</td>\n",
       "      <td>1991</td>\n",
       "      <td>2781.787843</td>\n",
       "      <td>NaN</td>\n",
       "    </tr>\n",
       "    <tr>\n",
       "      <th>7661</th>\n",
       "      <td>Zimbabwe</td>\n",
       "      <td>1990</td>\n",
       "      <td>2704.757299</td>\n",
       "      <td>NaN</td>\n",
       "    </tr>\n",
       "  </tbody>\n",
       "</table>\n",
       "<p>7662 rows × 4 columns</p>\n",
       "</div>"
      ],
      "text/plain": [
       "     Country or Area  Year        Value  Value Footnotes\n",
       "0        Afghanistan  2021  1517.016266              NaN\n",
       "1        Afghanistan  2020  1968.341002              NaN\n",
       "2        Afghanistan  2019  2079.921861              NaN\n",
       "3        Afghanistan  2018  2060.698973              NaN\n",
       "4        Afghanistan  2017  2096.093111              NaN\n",
       "...              ...   ...          ...              ...\n",
       "7657        Zimbabwe  1994  2670.106615              NaN\n",
       "7658        Zimbabwe  1993  2458.783255              NaN\n",
       "7659        Zimbabwe  1992  2468.278257              NaN\n",
       "7660        Zimbabwe  1991  2781.787843              NaN\n",
       "7661        Zimbabwe  1990  2704.757299              NaN\n",
       "\n",
       "[7662 rows x 4 columns]"
      ]
     },
     "execution_count": 2,
     "metadata": {},
     "output_type": "execute_result"
    }
   ],
   "source": [
    "pd.read_csv('../data/gdp_percapita.csv')"
   ]
  },
  {
   "cell_type": "code",
   "execution_count": 3,
   "id": "38787d47",
   "metadata": {},
   "outputs": [
    {
     "data": {
      "text/html": [
       "<div>\n",
       "<style scoped>\n",
       "    .dataframe tbody tr th:only-of-type {\n",
       "        vertical-align: middle;\n",
       "    }\n",
       "\n",
       "    .dataframe tbody tr th {\n",
       "        vertical-align: top;\n",
       "    }\n",
       "\n",
       "    .dataframe thead th {\n",
       "        text-align: right;\n",
       "    }\n",
       "</style>\n",
       "<table border=\"1\" class=\"dataframe\">\n",
       "  <thead>\n",
       "    <tr style=\"text-align: right;\">\n",
       "      <th></th>\n",
       "      <th>Country or Area</th>\n",
       "      <th>Year</th>\n",
       "      <th>Value</th>\n",
       "      <th>Value Footnotes</th>\n",
       "    </tr>\n",
       "  </thead>\n",
       "  <tbody>\n",
       "    <tr>\n",
       "      <th>0</th>\n",
       "      <td>Afghanistan</td>\n",
       "      <td>2021</td>\n",
       "      <td>1517.016266</td>\n",
       "      <td>NaN</td>\n",
       "    </tr>\n",
       "    <tr>\n",
       "      <th>1</th>\n",
       "      <td>Afghanistan</td>\n",
       "      <td>2020</td>\n",
       "      <td>1968.341002</td>\n",
       "      <td>NaN</td>\n",
       "    </tr>\n",
       "    <tr>\n",
       "      <th>2</th>\n",
       "      <td>Afghanistan</td>\n",
       "      <td>2019</td>\n",
       "      <td>2079.921861</td>\n",
       "      <td>NaN</td>\n",
       "    </tr>\n",
       "    <tr>\n",
       "      <th>3</th>\n",
       "      <td>Afghanistan</td>\n",
       "      <td>2018</td>\n",
       "      <td>2060.698973</td>\n",
       "      <td>NaN</td>\n",
       "    </tr>\n",
       "    <tr>\n",
       "      <th>4</th>\n",
       "      <td>Afghanistan</td>\n",
       "      <td>2017</td>\n",
       "      <td>2096.093111</td>\n",
       "      <td>NaN</td>\n",
       "    </tr>\n",
       "    <tr>\n",
       "      <th>...</th>\n",
       "      <td>...</td>\n",
       "      <td>...</td>\n",
       "      <td>...</td>\n",
       "      <td>...</td>\n",
       "    </tr>\n",
       "    <tr>\n",
       "      <th>7657</th>\n",
       "      <td>Zimbabwe</td>\n",
       "      <td>1994</td>\n",
       "      <td>2670.106615</td>\n",
       "      <td>NaN</td>\n",
       "    </tr>\n",
       "    <tr>\n",
       "      <th>7658</th>\n",
       "      <td>Zimbabwe</td>\n",
       "      <td>1993</td>\n",
       "      <td>2458.783255</td>\n",
       "      <td>NaN</td>\n",
       "    </tr>\n",
       "    <tr>\n",
       "      <th>7659</th>\n",
       "      <td>Zimbabwe</td>\n",
       "      <td>1992</td>\n",
       "      <td>2468.278257</td>\n",
       "      <td>NaN</td>\n",
       "    </tr>\n",
       "    <tr>\n",
       "      <th>7660</th>\n",
       "      <td>Zimbabwe</td>\n",
       "      <td>1991</td>\n",
       "      <td>2781.787843</td>\n",
       "      <td>NaN</td>\n",
       "    </tr>\n",
       "    <tr>\n",
       "      <th>7661</th>\n",
       "      <td>Zimbabwe</td>\n",
       "      <td>1990</td>\n",
       "      <td>2704.757299</td>\n",
       "      <td>NaN</td>\n",
       "    </tr>\n",
       "  </tbody>\n",
       "</table>\n",
       "<p>7662 rows × 4 columns</p>\n",
       "</div>"
      ],
      "text/plain": [
       "     Country or Area  Year        Value  Value Footnotes\n",
       "0        Afghanistan  2021  1517.016266              NaN\n",
       "1        Afghanistan  2020  1968.341002              NaN\n",
       "2        Afghanistan  2019  2079.921861              NaN\n",
       "3        Afghanistan  2018  2060.698973              NaN\n",
       "4        Afghanistan  2017  2096.093111              NaN\n",
       "...              ...   ...          ...              ...\n",
       "7657        Zimbabwe  1994  2670.106615              NaN\n",
       "7658        Zimbabwe  1993  2458.783255              NaN\n",
       "7659        Zimbabwe  1992  2468.278257              NaN\n",
       "7660        Zimbabwe  1991  2781.787843              NaN\n",
       "7661        Zimbabwe  1990  2704.757299              NaN\n",
       "\n",
       "[7662 rows x 4 columns]"
      ]
     },
     "execution_count": 3,
     "metadata": {},
     "output_type": "execute_result"
    }
   ],
   "source": [
    "pd.read_csv('../data/gdp_percapita.csv')"
   ]
  },
  {
   "cell_type": "code",
   "execution_count": 4,
   "id": "7fbb3da6",
   "metadata": {
    "scrolled": true
   },
   "outputs": [
    {
     "name": "stdout",
     "output_type": "stream",
     "text": [
      "Country or Area     object\n",
      "Year                 int64\n",
      "Value              float64\n",
      "Value Footnotes    float64\n",
      "dtype: object\n"
     ]
    }
   ],
   "source": [
    "gdp_df = pd.read_csv('../data/gdp_percapita.csv') #navigating to file after changing title\n",
    "column_types = gdp_df.dtypes\n",
    "print(column_types)"
   ]
  },
  {
   "cell_type": "markdown",
   "id": "1584cadb",
   "metadata": {},
   "source": [
    "### 5. How many rows and columns are in `gdp_df`? What are the data types of each column?"
   ]
  },
  {
   "cell_type": "markdown",
   "id": "fe583af3",
   "metadata": {},
   "source": [
    "7662 rows, 4 columns. Country/Area = object, year = int64, Value = float64, Value footnotes = float64"
   ]
  },
  {
   "cell_type": "code",
   "execution_count": 5,
   "id": "15006d8a",
   "metadata": {},
   "outputs": [
    {
     "data": {
      "text/plain": [
       "(7662, 4)"
      ]
     },
     "execution_count": 5,
     "metadata": {},
     "output_type": "execute_result"
    }
   ],
   "source": [
    "gdp_df.shape #how many rows, then columns"
   ]
  },
  {
   "cell_type": "markdown",
   "id": "5037ba1f",
   "metadata": {},
   "source": [
    "### 6. Drop the `Value Footnotes` column and rename the remaining three to 'Country', 'Year', and 'GDP_Per_Capita'."
   ]
  },
  {
   "cell_type": "code",
   "execution_count": 6,
   "id": "7b484047",
   "metadata": {},
   "outputs": [
    {
     "data": {
      "text/html": [
       "<div>\n",
       "<style scoped>\n",
       "    .dataframe tbody tr th:only-of-type {\n",
       "        vertical-align: middle;\n",
       "    }\n",
       "\n",
       "    .dataframe tbody tr th {\n",
       "        vertical-align: top;\n",
       "    }\n",
       "\n",
       "    .dataframe thead th {\n",
       "        text-align: right;\n",
       "    }\n",
       "</style>\n",
       "<table border=\"1\" class=\"dataframe\">\n",
       "  <thead>\n",
       "    <tr style=\"text-align: right;\">\n",
       "      <th></th>\n",
       "      <th>Country or Area</th>\n",
       "      <th>Year</th>\n",
       "      <th>Value</th>\n",
       "    </tr>\n",
       "  </thead>\n",
       "  <tbody>\n",
       "    <tr>\n",
       "      <th>0</th>\n",
       "      <td>Afghanistan</td>\n",
       "      <td>2021</td>\n",
       "      <td>1517.016266</td>\n",
       "    </tr>\n",
       "    <tr>\n",
       "      <th>1</th>\n",
       "      <td>Afghanistan</td>\n",
       "      <td>2020</td>\n",
       "      <td>1968.341002</td>\n",
       "    </tr>\n",
       "  </tbody>\n",
       "</table>\n",
       "</div>"
      ],
      "text/plain": [
       "  Country or Area  Year        Value\n",
       "0     Afghanistan  2021  1517.016266\n",
       "1     Afghanistan  2020  1968.341002"
      ]
     },
     "execution_count": 6,
     "metadata": {},
     "output_type": "execute_result"
    }
   ],
   "source": [
    "gdp_df = gdp_df.drop(columns = ['Value Footnotes']) #getting rid of that\n",
    "gdp_df.head(2)"
   ]
  },
  {
   "cell_type": "code",
   "execution_count": 7,
   "id": "4d0d87ab",
   "metadata": {
    "scrolled": true
   },
   "outputs": [
    {
     "data": {
      "text/html": [
       "<div>\n",
       "<style scoped>\n",
       "    .dataframe tbody tr th:only-of-type {\n",
       "        vertical-align: middle;\n",
       "    }\n",
       "\n",
       "    .dataframe tbody tr th {\n",
       "        vertical-align: top;\n",
       "    }\n",
       "\n",
       "    .dataframe thead th {\n",
       "        text-align: right;\n",
       "    }\n",
       "</style>\n",
       "<table border=\"1\" class=\"dataframe\">\n",
       "  <thead>\n",
       "    <tr style=\"text-align: right;\">\n",
       "      <th></th>\n",
       "      <th>country</th>\n",
       "      <th>year</th>\n",
       "      <th>gdp_per_capita</th>\n",
       "    </tr>\n",
       "  </thead>\n",
       "  <tbody>\n",
       "    <tr>\n",
       "      <th>0</th>\n",
       "      <td>Afghanistan</td>\n",
       "      <td>2021</td>\n",
       "      <td>1517.016266</td>\n",
       "    </tr>\n",
       "    <tr>\n",
       "      <th>1</th>\n",
       "      <td>Afghanistan</td>\n",
       "      <td>2020</td>\n",
       "      <td>1968.341002</td>\n",
       "    </tr>\n",
       "  </tbody>\n",
       "</table>\n",
       "</div>"
      ],
      "text/plain": [
       "       country  year  gdp_per_capita\n",
       "0  Afghanistan  2021     1517.016266\n",
       "1  Afghanistan  2020     1968.341002"
      ]
     },
     "execution_count": 7,
     "metadata": {},
     "output_type": "execute_result"
    }
   ],
   "source": [
    "gdp_df = gdp_df.rename(columns = {'Country or Area':'country','Year':'year','Value':'gdp_per_capita'})\n",
    "gdp_df.head(2) #renaming them"
   ]
  },
  {
   "cell_type": "markdown",
   "id": "fabb459b",
   "metadata": {},
   "source": [
    "### 7. How many countries have data for all years? Which countries are missing many years of data?"
   ]
  },
  {
   "cell_type": "code",
   "execution_count": 8,
   "id": "26a2fdf0",
   "metadata": {
    "scrolled": true
   },
   "outputs": [],
   "source": [
    "years = gdp_df ['year'].unique() \n",
    "# finding all the unique years in the dataset and assigning the varriable 'years'"
   ]
  },
  {
   "cell_type": "code",
   "execution_count": 9,
   "id": "d5afb641",
   "metadata": {
    "scrolled": true
   },
   "outputs": [
    {
     "data": {
      "text/plain": [
       "country\n",
       "Least developed countries: UN classification    33\n",
       "Middle East & North Africa                      33\n",
       "Middle East & North Africa (IDA & IBRD)         33\n",
       "Middle income                                   33\n",
       "Mongolia                                        33\n",
       "Name: count, dtype: int64"
      ]
     },
     "execution_count": 9,
     "metadata": {},
     "output_type": "execute_result"
    }
   ],
   "source": [
    "country_counts = gdp_df['country'].value_counts() \n",
    "#counting the number of rows for each country, then totaling how many times each unique country appears\n",
    "country_counts.head()"
   ]
  },
  {
   "cell_type": "code",
   "execution_count": 10,
   "id": "3f8114ac",
   "metadata": {},
   "outputs": [],
   "source": [
    "countries_with_all_years = country_counts[country_counts == len(years)].index.tolist()\n",
    "#getting rid of countries where the amounts are the same"
   ]
  },
  {
   "cell_type": "code",
   "execution_count": 11,
   "id": "2d8fb315",
   "metadata": {},
   "outputs": [
    {
     "data": {
      "text/plain": [
       "202"
      ]
     },
     "execution_count": 11,
     "metadata": {},
     "output_type": "execute_result"
    }
   ],
   "source": [
    "count_countries_with_all_years = len(countries_with_all_years)\n",
    "count_countries_with_all_years\n",
    "#this should be what is left after taking out the matching numbers"
   ]
  },
  {
   "cell_type": "markdown",
   "id": "a997d086",
   "metadata": {},
   "source": [
    "### Which countries are missing many years of data? "
   ]
  },
  {
   "cell_type": "code",
   "execution_count": 12,
   "id": "91d567fd",
   "metadata": {},
   "outputs": [
    {
     "data": {
      "text/plain": [
       "['Least developed countries: UN classification',\n",
       " 'Middle East & North Africa',\n",
       " 'Middle East & North Africa (IDA & IBRD)',\n",
       " 'Middle income',\n",
       " 'Mongolia',\n",
       " 'Morocco',\n",
       " 'Mozambique',\n",
       " 'Myanmar',\n",
       " 'Namibia',\n",
       " 'Nepal',\n",
       " 'Netherlands',\n",
       " 'New Zealand',\n",
       " 'Nicaragua',\n",
       " 'Niger',\n",
       " 'Nigeria',\n",
       " 'North America',\n",
       " 'North Macedonia',\n",
       " 'Norway',\n",
       " 'OECD members',\n",
       " 'Oman',\n",
       " 'Pacific island small states',\n",
       " 'Pakistan',\n",
       " 'Panama',\n",
       " 'Papua New Guinea',\n",
       " 'Paraguay',\n",
       " 'Middle East & North Africa (excluding high income)',\n",
       " 'Micronesia',\n",
       " 'Philippines',\n",
       " 'Mexico',\n",
       " 'Kiribati',\n",
       " 'Korea',\n",
       " 'Kyrgyz Republic',\n",
       " 'Lao PDR',\n",
       " 'Late-demographic dividend',\n",
       " 'Latin America & Caribbean',\n",
       " 'Latin America & Caribbean (excluding high income)',\n",
       " 'Latin America & Caribbean (IDA & IBRD)',\n",
       " 'Africa Eastern and Southern',\n",
       " 'Lesotho',\n",
       " 'Low & middle income',\n",
       " 'Low income',\n",
       " 'Lower middle income',\n",
       " 'Luxembourg',\n",
       " 'Macao SAR, China',\n",
       " 'Madagascar',\n",
       " 'Malawi',\n",
       " 'Malaysia',\n",
       " 'Mali',\n",
       " 'Malta',\n",
       " 'Marshall Islands',\n",
       " 'Mauritania',\n",
       " 'Mauritius',\n",
       " 'Peru',\n",
       " 'Poland',\n",
       " 'Kazakhstan',\n",
       " 'Suriname',\n",
       " 'Switzerland',\n",
       " 'TÃ¼rkiye',\n",
       " 'Tajikistan',\n",
       " 'Tanzania',\n",
       " 'Thailand',\n",
       " 'The Bahamas',\n",
       " 'The Gambia',\n",
       " 'Togo',\n",
       " 'Trinidad and Tobago',\n",
       " 'Tunisia',\n",
       " 'Tuvalu',\n",
       " 'Uganda',\n",
       " 'Ukraine',\n",
       " 'United Arab Emirates',\n",
       " 'United Kingdom',\n",
       " 'United States',\n",
       " 'Upper middle income',\n",
       " 'Uruguay',\n",
       " 'Uzbekistan',\n",
       " 'Vanuatu',\n",
       " 'Viet Nam',\n",
       " 'World',\n",
       " 'Zambia',\n",
       " 'Sweden',\n",
       " 'Sudan',\n",
       " 'Portugal',\n",
       " 'Sub-Saharan Africa (IDA & IBRD)',\n",
       " 'Post-demographic dividend',\n",
       " 'Pre-demographic dividend',\n",
       " 'Puerto Rico',\n",
       " 'Romania',\n",
       " 'Russia',\n",
       " 'Rwanda',\n",
       " 'Samoa',\n",
       " 'Saudi Arabia',\n",
       " 'Senegal',\n",
       " 'Seychelles',\n",
       " 'Sierra Leone',\n",
       " 'Singapore',\n",
       " 'Solomon Islands',\n",
       " 'South Africa',\n",
       " 'South Asia',\n",
       " 'South Asia (IDA & IBRD)',\n",
       " 'Spain',\n",
       " 'Sri Lanka',\n",
       " 'St. Kitts and Nevis',\n",
       " 'St. Lucia',\n",
       " 'St. Vincent and the Grenadines',\n",
       " 'Sub-Saharan Africa',\n",
       " 'Sub-Saharan Africa (excluding high income)',\n",
       " 'Kenya',\n",
       " 'Zimbabwe',\n",
       " 'Jordan',\n",
       " 'Angola',\n",
       " 'Algeria',\n",
       " 'Central Europe and the Baltics',\n",
       " 'Chad',\n",
       " 'Chile',\n",
       " 'China',\n",
       " 'Colombia',\n",
       " 'Comoros',\n",
       " 'Congo',\n",
       " 'Costa Rica',\n",
       " 'Cyprus',\n",
       " 'Czechia',\n",
       " 'Dem. Rep. Congo',\n",
       " 'Denmark',\n",
       " 'Japan',\n",
       " 'Dominica',\n",
       " 'Dominican Republic',\n",
       " 'Early-demographic dividend',\n",
       " 'Arab World',\n",
       " 'East Asia & Pacific (excluding high income)',\n",
       " 'East Asia & Pacific (IDA & IBRD)',\n",
       " 'Ecuador',\n",
       " 'Egypt',\n",
       " 'El Salvador',\n",
       " 'Central African Republic',\n",
       " 'Caribbean small states',\n",
       " 'Eswatini',\n",
       " 'Canada',\n",
       " 'Armenia',\n",
       " 'Australia',\n",
       " 'Austria',\n",
       " 'Azerbaijan',\n",
       " 'Bahrain',\n",
       " 'Antigua and Barbuda',\n",
       " 'Bangladesh',\n",
       " 'Barbados',\n",
       " 'Belarus',\n",
       " 'Belgium',\n",
       " 'Belize',\n",
       " 'Benin',\n",
       " 'Bermuda',\n",
       " 'Bolivia',\n",
       " 'Botswana',\n",
       " 'Brazil',\n",
       " 'Brunei',\n",
       " 'Bulgaria',\n",
       " 'Burkina Faso',\n",
       " 'Burundi',\n",
       " \"CÃ´te d'Ivoire\",\n",
       " 'Cabo Verde',\n",
       " 'Cameroon',\n",
       " 'Equatorial Guinea',\n",
       " 'East Asia & Pacific',\n",
       " 'Haiti',\n",
       " 'IDA & IBRD total',\n",
       " 'Guatemala',\n",
       " 'Guinea',\n",
       " 'Guinea-Bissau',\n",
       " 'Guyana',\n",
       " 'Ethiopia',\n",
       " 'Heavily indebted poor countries (HIPC)',\n",
       " 'High income',\n",
       " 'Honduras',\n",
       " 'Hong Kong SAR, China',\n",
       " 'IBRD only',\n",
       " 'IDA blend',\n",
       " 'Greece',\n",
       " 'IDA only',\n",
       " 'IDA total',\n",
       " 'India',\n",
       " 'Indonesia',\n",
       " 'Iran',\n",
       " 'Iraq',\n",
       " 'Ireland',\n",
       " 'Africa Western and Central',\n",
       " 'Italy',\n",
       " 'Jamaica',\n",
       " 'Grenada',\n",
       " 'Argentina',\n",
       " 'Europe & Central Asia (IDA & IBRD)',\n",
       " 'European Union',\n",
       " 'Fiji',\n",
       " 'Fragile and conflict affected situations',\n",
       " 'France',\n",
       " 'Gabon',\n",
       " 'Albania',\n",
       " 'Europe & Central Asia',\n",
       " 'Georgia',\n",
       " 'Finland',\n",
       " 'Europe & Central Asia (excluding high income)',\n",
       " 'Ghana',\n",
       " 'Euro area',\n",
       " 'Germany']"
      ]
     },
     "execution_count": 12,
     "metadata": {},
     "output_type": "execute_result"
    }
   ],
   "source": [
    "countries_with_all_years"
   ]
  },
  {
   "cell_type": "markdown",
   "id": "e2fa5c0a",
   "metadata": {},
   "source": [
    "### Look at the number of observations per year. What do you notice? "
   ]
  },
  {
   "cell_type": "code",
   "execution_count": 13,
   "id": "e9cbae39",
   "metadata": {},
   "outputs": [
    {
     "data": {
      "text/plain": [
       "year\n",
       "1990    207\n",
       "1991    208\n",
       "1992    210\n",
       "1993    211\n",
       "1994    213\n",
       "1995    223\n",
       "1996    223\n",
       "1997    226\n",
       "1998    226\n",
       "1999    227\n",
       "2000    233\n",
       "2001    234\n",
       "2002    235\n",
       "2003    235\n",
       "2004    236\n",
       "2005    236\n",
       "2006    237\n",
       "2007    237\n",
       "2008    238\n",
       "2009    239\n",
       "2010    239\n",
       "2011    240\n",
       "2012    240\n",
       "2013    242\n",
       "2014    242\n",
       "2015    242\n",
       "2016    242\n",
       "2017    242\n",
       "2018    242\n",
       "2019    242\n",
       "2020    242\n",
       "2021    241\n",
       "2022    232\n",
       "Name: count, dtype: int64"
      ]
     },
     "execution_count": 13,
     "metadata": {},
     "output_type": "execute_result"
    }
   ],
   "source": [
    "observations_per_year = gdp_df['year'].value_counts().sort_index()\n",
    "\n",
    "observations_per_year"
   ]
  },
  {
   "cell_type": "markdown",
   "id": "52f90137",
   "metadata": {},
   "source": [
    "Consistently went up every year until 2022"
   ]
  },
  {
   "cell_type": "markdown",
   "id": "cccade89",
   "metadata": {},
   "source": [
    "8. In this question, you're going to create some plots to show the distribution of GDP per capita for the year 2020. Go to the Python Graph Gallery (https://www.python-graph-gallery.com/) and look at the different types of plots under the Distribution section. Create a histogram, a density plot, a boxplot, and a violin plot. What do you notice when you look at these plots? How do the plots compare and what information can you get out of one type that you can't necessarily get out of the others?"
   ]
  },
  {
   "cell_type": "markdown",
   "id": "fba00e7a",
   "metadata": {},
   "source": [
    "### Histogram"
   ]
  },
  {
   "cell_type": "code",
   "execution_count": 14,
   "id": "0a3b08bb",
   "metadata": {},
   "outputs": [
    {
     "data": {
      "image/png": "[encoded data removed]",
      "text/plain": [
       "<Figure size 1200x600 with 1 Axes>"
      ]
     },
     "metadata": {},
     "output_type": "display_data"
    }
   ],
   "source": [
    "gdp_2020 = gdp_df[gdp_df['year'] == 2020] #just getting 2020\n",
    "\n",
    "# creating the graph\n",
    "plt.figure(figsize=(12, 6))\n",
    "plt.hist(gdp_2020['gdp_per_capita'], bins=30, color='green', edgecolor='black')\n",
    "plt.title('GDP per capita in 2020')\n",
    "plt.xlabel('GDP per capita')\n",
    "plt.ylabel('Number of Countries')\n",
    "plt.grid(True)\n",
    "plt.show()\n"
   ]
  },
  {
   "cell_type": "markdown",
   "id": "39b07f55",
   "metadata": {},
   "source": [
    "### Density Plot"
   ]
  },
  {
   "cell_type": "code",
   "execution_count": 15,
   "id": "62aa3a94",
   "metadata": {
    "scrolled": true
   },
   "outputs": [
    {
     "data": {
      "image/png": "[encoded data removed]",
      "text/plain": [
       "<Figure size 1200x300 with 1 Axes>"
      ]
     },
     "metadata": {},
     "output_type": "display_data"
    }
   ],
   "source": [
    "gdp_2020 = gdp_df[gdp_df['year'] == 2020] #just getting 2020\n",
    "\n",
    "plt.figure(figsize=(12, 3))\n",
    "sns.kdeplot(gdp_2020['gdp_per_capita'], fill=True, color=\"purple\")  # Replaced 'shade' with 'fill'\n",
    "plt.title('GDP per capita in 2020')\n",
    "plt.xlabel('GDP per capita')\n",
    "plt.ylabel('Density')\n",
    "plt.grid(True)\n",
    "plt.show()\n"
   ]
  },
  {
   "cell_type": "markdown",
   "id": "ed39cb06",
   "metadata": {},
   "source": [
    "### Boxplot"
   ]
  },
  {
   "cell_type": "code",
   "execution_count": 16,
   "id": "4d0d9d0c",
   "metadata": {
    "scrolled": false
   },
   "outputs": [
    {
     "data": {
      "image/png": "[encoded data removed]",
      "text/plain": [
       "<Figure size 1000x300 with 1 Axes>"
      ]
     },
     "metadata": {},
     "output_type": "display_data"
    }
   ],
   "source": [
    "gdp_2020 = gdp_df[gdp_df['year'] == 2020] #just getting 2020\n",
    "\n",
    "plt.figure(figsize=(10, 3))\n",
    "sns.boxplot(x=gdp_2020['gdp_per_capita'], color=\"pink\")\n",
    "plt.title('GDP per capita in 2020')\n",
    "plt.xlabel('GDP per capita')\n",
    "plt.grid(True)\n",
    "plt.show()"
   ]
  },
  {
   "cell_type": "markdown",
   "id": "773b8180",
   "metadata": {},
   "source": [
    "### Violin plot"
   ]
  },
  {
   "cell_type": "code",
   "execution_count": 17,
   "id": "a7ac11cb",
   "metadata": {
    "scrolled": true
   },
   "outputs": [
    {
     "data": {
      "image/png": "[encoded data removed]",
      "text/plain": [
       "<Figure size 1500x500 with 1 Axes>"
      ]
     },
     "metadata": {},
     "output_type": "display_data"
    }
   ],
   "source": [
    "gdp_2020 = gdp_df[gdp_df['year'] == 2020] #just getting 2020\n",
    "\n",
    "plt.figure(figsize=(15, 5))\n",
    "sns.violinplot(y='gdp_per_capita', data=gdp_2020)\n",
    "plt.title('GDP Per Capita 2020')\n",
    "plt.ylabel('GDP Per Capita')\n",
    "plt.grid(True)\n",
    "plt.show()\n"
   ]
  },
  {
   "cell_type": "markdown",
   "id": "86c1326b",
   "metadata": {},
   "source": [
    "### How do the plots compare and what information can you get out of one type that you can't necessarily get out of the others?"
   ]
  },
  {
   "cell_type": "markdown",
   "id": "92155efa",
   "metadata": {},
   "source": [
    "The first two graphs seem more detailed. The boxplot and violin plot seem like a summary."
   ]
  },
  {
   "cell_type": "markdown",
   "id": "5f97b28e",
   "metadata": {},
   "source": [
    "9. What was the median GDP per capita value in 2020?"
   ]
  },
  {
   "cell_type": "code",
   "execution_count": null,
   "id": "0e81322b",
   "metadata": {},
   "outputs": [],
   "source": []
  },
  {
   "cell_type": "markdown",
   "id": "b41766c6",
   "metadata": {},
   "source": [
    "10. For this question, you're going to create some visualizations to compare GDP per capita values for the years 1990, 2000, 2010, and 2020. Start by subsetting your data to just these 4 years into a new DataFrame named gdp_decades. Using this, create the following 4 plots:\n",
    "\t* A boxplot\n",
    "\t* A barplot (check out the Barplot with Seaborn section: https://www.python-graph-gallery.com/barplot/#Seaborn)\n",
    "\t* A scatterplot\n",
    "\t* A scatterplot with a trend line overlaid (see this regplot example: https://www.python-graph-gallery.com/42-custom-linear-regression-fit-seaborn)  \n",
    "Comment on what you observe has happened to GDP values over time and the relative strengths and weaknesses of each type of plot."
   ]
  },
  {
   "cell_type": "markdown",
   "id": "1f2bd118",
   "metadata": {},
   "source": []
  },
  {
   "cell_type": "code",
   "execution_count": null,
   "id": "1063efd9",
   "metadata": {},
   "outputs": [],
   "source": []
  },
  {
   "cell_type": "markdown",
   "id": "6402ff96",
   "metadata": {},
   "source": [
    "11. Which country was the first to have a GDP per capita greater than $100,000?"
   ]
  },
  {
   "cell_type": "code",
   "execution_count": null,
   "id": "0d33c1d9",
   "metadata": {},
   "outputs": [],
   "source": []
  },
  {
   "cell_type": "markdown",
   "id": "da7ba2f9",
   "metadata": {},
   "source": [
    "12. Which country had the highest GDP per capita in 2020? Create a plot showing how this country's GDP per capita has changed over the timespan of the dataset."
   ]
  },
  {
   "cell_type": "code",
   "execution_count": null,
   "id": "344875e5",
   "metadata": {},
   "outputs": [],
   "source": []
  },
  {
   "cell_type": "markdown",
   "id": "1d4b4222",
   "metadata": {},
   "source": [
    "13. Which country had the lowest GDP per capita in 2020? Create a plot showing how this country's GDP per capita has changed over the timespan of the dataset. **Bonus question:** Is it true in general that coutries had a higher GDP per capita in 2020 than in 1990? Which countries had lower GDP per capita in 2020 than in 1990?"
   ]
  },
  {
   "cell_type": "code",
   "execution_count": null,
   "id": "5ae4f9f3",
   "metadata": {},
   "outputs": [],
   "source": []
  },
  {
   "cell_type": "markdown",
   "id": "5f30c2c6",
   "metadata": {},
   "source": [
    "14. Read in the internet use dataset into a DataFrame named `internet_df`. You will likely get errors when doing this. Check the arguments for the read_csv function to find ones that can help correct the errors (https://pandas.pydata.org/docs/reference/api/pandas.read_csv.html) Once you are able to read it in, take per a look at the top and bottom few rows to make sure that it has been read in correctly. Also, check the datatypes of the columns."
   ]
  },
  {
   "cell_type": "code",
   "execution_count": null,
   "id": "a8f2fdbf",
   "metadata": {},
   "outputs": [],
   "source": []
  },
  {
   "cell_type": "markdown",
   "id": "8783a232",
   "metadata": {},
   "source": [
    "15. Drop the `Value Footnotes` column and rename the remaining three to 'Country', 'Year', and 'Internet_Users_Pct'."
   ]
  },
  {
   "cell_type": "code",
   "execution_count": null,
   "id": "1787cdfc",
   "metadata": {},
   "outputs": [],
   "source": []
  },
  {
   "cell_type": "markdown",
   "id": "db31bc75",
   "metadata": {},
   "source": [
    "16. Look at the number of observations in this dataset per year. What do you notice?"
   ]
  },
  {
   "cell_type": "code",
   "execution_count": null,
   "id": "a344efd7",
   "metadata": {},
   "outputs": [],
   "source": []
  },
  {
   "cell_type": "markdown",
   "id": "9728f8af",
   "metadata": {},
   "source": [
    "17. What is the first year to have a non-zero internet users percentage value?"
   ]
  },
  {
   "cell_type": "code",
   "execution_count": null,
   "id": "4c499953",
   "metadata": {},
   "outputs": [],
   "source": []
  },
  {
   "cell_type": "markdown",
   "id": "92bc3ba0",
   "metadata": {},
   "source": [
    "18. How does the distribution of internet users percent differ for 2000 and 2014?"
   ]
  },
  {
   "cell_type": "code",
   "execution_count": null,
   "id": "ceecdbc4",
   "metadata": {},
   "outputs": [],
   "source": []
  },
  {
   "cell_type": "markdown",
   "id": "07a95b3b",
   "metadata": {},
   "source": [
    "19. For how many countries was the percentage of internet users below 5% in 2014?"
   ]
  },
  {
   "cell_type": "code",
   "execution_count": null,
   "id": "445580bf",
   "metadata": {},
   "outputs": [],
   "source": []
  },
  {
   "cell_type": "markdown",
   "id": "cc7f9277",
   "metadata": {},
   "source": [
    "20. Merge the two DataFrames to one. Do this in a way that keeps **all rows** from each of the two DataFrames. Call the new DataFrame `gdp_and_internet_use`. Look at the first and last few rows to confirm that it merged correctly."
   ]
  },
  {
   "cell_type": "code",
   "execution_count": null,
   "id": "73cbb4c3",
   "metadata": {},
   "outputs": [],
   "source": []
  },
  {
   "cell_type": "markdown",
   "id": "d09f1ff1",
   "metadata": {},
   "source": [
    "21. Find the three countries with the highest internet users percentage in 2014. Use a seaborn FacetGrid (https://seaborn.pydata.org/generated/seaborn.FacetGrid.html) to compare how the GDP per capita has changed over time for these three countries. What do you notice?"
   ]
  },
  {
   "cell_type": "code",
   "execution_count": null,
   "id": "4bb1e1f2",
   "metadata": {},
   "outputs": [],
   "source": []
  },
  {
   "cell_type": "markdown",
   "id": "7465f2b0",
   "metadata": {},
   "source": [
    "22. Subset `gdp_and_internet_use` to just the year 2014. Save this as a new dataframe named `gdp_and_internet_use_2014`."
   ]
  },
  {
   "cell_type": "code",
   "execution_count": null,
   "id": "8c5ae88f",
   "metadata": {},
   "outputs": [],
   "source": []
  },
  {
   "cell_type": "markdown",
   "id": "302ba9f0",
   "metadata": {},
   "source": [
    "23. Create a plot which compares Internet Users Percentage and GDP per Capita for the year 2014. What do you notice from this plot? If you see any unusual points, investigate them."
   ]
  },
  {
   "cell_type": "code",
   "execution_count": null,
   "id": "dcd8ccbd",
   "metadata": {},
   "outputs": [],
   "source": []
  },
  {
   "cell_type": "code",
   "execution_count": null,
   "id": "de4d6ee3",
   "metadata": {},
   "outputs": [],
   "source": []
  }
 ],
 "metadata": {
  "kernelspec": {
   "display_name": "Python 3 (ipykernel)",
   "language": "python",
   "name": "python3"
  },
  "language_info": {
   "codemirror_mode": {
    "name": "ipython",
    "version": 3
   },
   "file_extension": ".py",
   "mimetype": "text/x-python",
   "name": "python",
   "nbconvert_exporter": "python",
   "pygments_lexer": "ipython3",
   "version": "3.11.5"
  }
 },
 "nbformat": 4,
 "nbformat_minor": 5
}
